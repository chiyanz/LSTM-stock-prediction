{
 "cells": [
  {
   "cell_type": "code",
   "execution_count": 1,
   "id": "b29811c3",
   "metadata": {
    "ExecuteTime": {
     "end_time": "2023-12-09T23:14:01.924291Z",
     "start_time": "2023-12-09T23:14:01.675904Z"
    }
   },
   "outputs": [
    {
     "name": "stdout",
     "output_type": "stream",
     "text": [
      "[*********************100%%**********************]  1 of 1 completed\n",
      "(2599, 6)\n"
     ]
    }
   ],
   "source": [
    "import numpy as np\n",
    "import matplotlib.pyplot as plt\n",
    "import pandas as pd\n",
    "import yfinance as yf\n",
    "import pandas_ta as ta\n",
    "data = yf.download(tickers = ['AAPL'], start = '2012-03-11',end = '2022-07-10')\n",
    "data.head(10)\n",
    "print(data.shape)"
   ]
  },
  {
   "cell_type": "code",
   "execution_count": 2,
   "id": "68e700e1",
   "metadata": {
    "ExecuteTime": {
     "end_time": "2023-12-09T23:14:04.225280Z",
     "start_time": "2023-12-09T23:14:04.201571Z"
    }
   },
   "outputs": [
    {
     "name": "stdout",
     "output_type": "stream",
     "text": [
      "(2443, 9)\n"
     ]
    }
   ],
   "source": [
    "# Adding indicators\n",
    "data['RSI']=ta.rsi(data.Close, length=15)\n",
    "data['EMAF']=ta.ema(data.Close, length=20)\n",
    "data['EMAM']=ta.ema(data.Close, length=100)\n",
    "data['EMAS']=ta.ema(data.Close, length=150)\n",
    "\n",
    "data['Next Close'] = data['Adj Close'].shift(-7)\n",
    "# target prediction value: the change in closing price next week\n",
    "data['Target'] = data['Next Close'] - data['Adj Close']\n",
    "\n",
    "# data['TargetClass'] = [1 if data.Target[i]>0 else 0 for i in range(len(data))]\n",
    "\n",
    "# target is next week's closing price\n",
    "# data['TargetNextClose'] = data['Adj Close'].shift(-7)\n",
    "\n",
    "# Display the resulting DataFrame\n",
    "data.dropna(inplace=True)\n",
    "\n",
    "# Resample to weekly frequency and calculate the mean\n",
    "# df_weekly = data.resample('W').mean()\n",
    "\n",
    "# Reset index to make 'date' a column again\n",
    "# df_weekly.reset_index(inplace=True)\n",
    "# df_weekly.dropna(inplace=True)\n",
    "# df_weekly.reset_index(inplace = True)\n",
    "\n",
    "data.reset_index(inplace = True)\n",
    "\n",
    "# Target column Categories\n",
    "# data['y'] =[1 if data.Open[i]>data.Close[i] else 0 for i in range(0, len(data))]\n",
    "# data['yi'] = [data.Open[i]-data.Close[i] for i in range(0, len(data))]\n",
    "# print(len(yi))\n",
    "\n",
    "data.drop(['Volume', 'Close', 'Date', 'Next Close'], axis=1, inplace=True)\n",
    "# df_weekly.drop(['index', 'Volume', 'Close'], axis=1, inplace=True)\n",
    "print(data.shape)\n",
    "# print(df_weekly.head())"
   ]
  },
  {
   "cell_type": "code",
   "execution_count": 3,
   "id": "a2b0e972",
   "metadata": {
    "ExecuteTime": {
     "end_time": "2023-12-09T23:14:06.290054Z",
     "start_time": "2023-12-09T23:14:06.279714Z"
    }
   },
   "outputs": [
    {
     "data": {
      "text/html": [
       "<div>\n",
       "<style scoped>\n",
       "    .dataframe tbody tr th:only-of-type {\n",
       "        vertical-align: middle;\n",
       "    }\n",
       "\n",
       "    .dataframe tbody tr th {\n",
       "        vertical-align: top;\n",
       "    }\n",
       "\n",
       "    .dataframe thead th {\n",
       "        text-align: right;\n",
       "    }\n",
       "</style>\n",
       "<table border=\"1\" class=\"dataframe\">\n",
       "  <thead>\n",
       "    <tr style=\"text-align: right;\">\n",
       "      <th></th>\n",
       "      <th>Open</th>\n",
       "      <th>High</th>\n",
       "      <th>Low</th>\n",
       "      <th>Adj Close</th>\n",
       "      <th>RSI</th>\n",
       "      <th>EMAF</th>\n",
       "      <th>EMAM</th>\n",
       "      <th>EMAS</th>\n",
       "      <th>Target</th>\n",
       "    </tr>\n",
       "  </thead>\n",
       "  <tbody>\n",
       "    <tr>\n",
       "      <th>0</th>\n",
       "      <td>23.089287</td>\n",
       "      <td>23.114286</td>\n",
       "      <td>22.432142</td>\n",
       "      <td>19.096916</td>\n",
       "      <td>35.875684</td>\n",
       "      <td>23.552655</td>\n",
       "      <td>22.673908</td>\n",
       "      <td>21.845652</td>\n",
       "      <td>0.180298</td>\n",
       "    </tr>\n",
       "    <tr>\n",
       "      <th>1</th>\n",
       "      <td>22.484285</td>\n",
       "      <td>22.692142</td>\n",
       "      <td>22.332144</td>\n",
       "      <td>19.145872</td>\n",
       "      <td>36.765282</td>\n",
       "      <td>23.451416</td>\n",
       "      <td>22.670259</td>\n",
       "      <td>21.854182</td>\n",
       "      <td>-0.497114</td>\n",
       "    </tr>\n",
       "    <tr>\n",
       "      <th>2</th>\n",
       "      <td>22.583929</td>\n",
       "      <td>22.683214</td>\n",
       "      <td>22.280357</td>\n",
       "      <td>19.299414</td>\n",
       "      <td>39.582099</td>\n",
       "      <td>23.376995</td>\n",
       "      <td>22.670254</td>\n",
       "      <td>21.864988</td>\n",
       "      <td>-0.545149</td>\n",
       "    </tr>\n",
       "    <tr>\n",
       "      <th>3</th>\n",
       "      <td>22.691786</td>\n",
       "      <td>23.225000</td>\n",
       "      <td>22.535713</td>\n",
       "      <td>19.756388</td>\n",
       "      <td>47.096862</td>\n",
       "      <td>23.360785</td>\n",
       "      <td>22.680879</td>\n",
       "      <td>21.882760</td>\n",
       "      <td>-1.223778</td>\n",
       "    </tr>\n",
       "    <tr>\n",
       "      <th>4</th>\n",
       "      <td>23.173929</td>\n",
       "      <td>23.313929</td>\n",
       "      <td>23.000000</td>\n",
       "      <td>19.598888</td>\n",
       "      <td>45.028756</td>\n",
       "      <td>23.328499</td>\n",
       "      <td>22.687629</td>\n",
       "      <td>21.897846</td>\n",
       "      <td>-1.234716</td>\n",
       "    </tr>\n",
       "    <tr>\n",
       "      <th>5</th>\n",
       "      <td>22.842501</td>\n",
       "      <td>22.930714</td>\n",
       "      <td>22.500000</td>\n",
       "      <td>19.234947</td>\n",
       "      <td>40.613280</td>\n",
       "      <td>23.258574</td>\n",
       "      <td>22.685781</td>\n",
       "      <td>21.907071</td>\n",
       "      <td>-1.134689</td>\n",
       "    </tr>\n",
       "    <tr>\n",
       "      <th>6</th>\n",
       "      <td>22.537500</td>\n",
       "      <td>22.563213</td>\n",
       "      <td>21.772142</td>\n",
       "      <td>18.541731</td>\n",
       "      <td>33.841003</td>\n",
       "      <td>23.117758</td>\n",
       "      <td>22.667845</td>\n",
       "      <td>21.905388</td>\n",
       "      <td>-0.404366</td>\n",
       "    </tr>\n",
       "    <tr>\n",
       "      <th>7</th>\n",
       "      <td>21.872143</td>\n",
       "      <td>22.692142</td>\n",
       "      <td>21.812857</td>\n",
       "      <td>19.277214</td>\n",
       "      <td>44.383315</td>\n",
       "      <td>23.072631</td>\n",
       "      <td>22.667371</td>\n",
       "      <td>21.915170</td>\n",
       "      <td>-1.740038</td>\n",
       "    </tr>\n",
       "    <tr>\n",
       "      <th>8</th>\n",
       "      <td>22.535713</td>\n",
       "      <td>22.639286</td>\n",
       "      <td>21.846430</td>\n",
       "      <td>18.648758</td>\n",
       "      <td>38.732730</td>\n",
       "      <td>22.961496</td>\n",
       "      <td>22.652289</td>\n",
       "      <td>21.915044</td>\n",
       "      <td>-0.873823</td>\n",
       "    </tr>\n",
       "    <tr>\n",
       "      <th>9</th>\n",
       "      <td>22.194286</td>\n",
       "      <td>22.376785</td>\n",
       "      <td>21.808571</td>\n",
       "      <td>18.754265</td>\n",
       "      <td>40.104305</td>\n",
       "      <td>22.872748</td>\n",
       "      <td>22.639959</td>\n",
       "      <td>21.916562</td>\n",
       "      <td>-1.033133</td>\n",
       "    </tr>\n",
       "    <tr>\n",
       "      <th>10</th>\n",
       "      <td>22.142857</td>\n",
       "      <td>22.214287</td>\n",
       "      <td>21.626785</td>\n",
       "      <td>18.532610</td>\n",
       "      <td>38.180356</td>\n",
       "      <td>22.767656</td>\n",
       "      <td>22.622718</td>\n",
       "      <td>21.914611</td>\n",
       "      <td>-1.489544</td>\n",
       "    </tr>\n",
       "    <tr>\n",
       "      <th>11</th>\n",
       "      <td>21.765356</td>\n",
       "      <td>21.928572</td>\n",
       "      <td>21.107143</td>\n",
       "      <td>18.364172</td>\n",
       "      <td>36.745042</td>\n",
       "      <td>22.653730</td>\n",
       "      <td>22.601900</td>\n",
       "      <td>21.910066</td>\n",
       "      <td>-1.939604</td>\n",
       "    </tr>\n",
       "    <tr>\n",
       "      <th>12</th>\n",
       "      <td>21.245714</td>\n",
       "      <td>21.498571</td>\n",
       "      <td>20.989286</td>\n",
       "      <td>18.100258</td>\n",
       "      <td>34.563812</td>\n",
       "      <td>22.521130</td>\n",
       "      <td>22.575356</td>\n",
       "      <td>21.901475</td>\n",
       "      <td>-1.391338</td>\n",
       "    </tr>\n",
       "    <tr>\n",
       "      <th>13</th>\n",
       "      <td>21.365000</td>\n",
       "      <td>21.535713</td>\n",
       "      <td>21.220358</td>\n",
       "      <td>18.137365</td>\n",
       "      <td>35.143588</td>\n",
       "      <td>22.405308</td>\n",
       "      <td>22.550201</td>\n",
       "      <td>21.893574</td>\n",
       "      <td>-1.557642</td>\n",
       "    </tr>\n",
       "    <tr>\n",
       "      <th>14</th>\n",
       "      <td>21.281786</td>\n",
       "      <td>21.319643</td>\n",
       "      <td>20.526787</td>\n",
       "      <td>17.537176</td>\n",
       "      <td>30.464267</td>\n",
       "      <td>22.233374</td>\n",
       "      <td>22.511583</td>\n",
       "      <td>21.876441</td>\n",
       "      <td>-0.955311</td>\n",
       "    </tr>\n",
       "    <tr>\n",
       "      <th>15</th>\n",
       "      <td>20.840000</td>\n",
       "      <td>20.991785</td>\n",
       "      <td>20.628571</td>\n",
       "      <td>17.774935</td>\n",
       "      <td>34.183829</td>\n",
       "      <td>22.104413</td>\n",
       "      <td>22.479260</td>\n",
       "      <td>21.863234</td>\n",
       "      <td>-1.376942</td>\n",
       "    </tr>\n",
       "    <tr>\n",
       "      <th>16</th>\n",
       "      <td>21.079643</td>\n",
       "      <td>21.097857</td>\n",
       "      <td>20.717501</td>\n",
       "      <td>17.721132</td>\n",
       "      <td>33.746061</td>\n",
       "      <td>21.981714</td>\n",
       "      <td>22.446326</td>\n",
       "      <td>21.849364</td>\n",
       "      <td>-1.667055</td>\n",
       "    </tr>\n",
       "    <tr>\n",
       "      <th>17</th>\n",
       "      <td>20.494286</td>\n",
       "      <td>20.519285</td>\n",
       "      <td>19.848213</td>\n",
       "      <td>17.043066</td>\n",
       "      <td>28.295413</td>\n",
       "      <td>21.786176</td>\n",
       "      <td>22.396469</td>\n",
       "      <td>21.823923</td>\n",
       "      <td>-0.926065</td>\n",
       "    </tr>\n",
       "    <tr>\n",
       "      <th>18</th>\n",
       "      <td>20.022499</td>\n",
       "      <td>20.079643</td>\n",
       "      <td>19.117500</td>\n",
       "      <td>16.424568</td>\n",
       "      <td>24.798298</td>\n",
       "      <td>21.540384</td>\n",
       "      <td>22.333279</td>\n",
       "      <td>21.789240</td>\n",
       "      <td>0.854595</td>\n",
       "    </tr>\n",
       "    <tr>\n",
       "      <th>19</th>\n",
       "      <td>19.300714</td>\n",
       "      <td>19.817142</td>\n",
       "      <td>19.061428</td>\n",
       "      <td>16.708920</td>\n",
       "      <td>29.113914</td>\n",
       "      <td>21.349667</td>\n",
       "      <td>22.277924</td>\n",
       "      <td>21.759420</td>\n",
       "      <td>0.423023</td>\n",
       "    </tr>\n",
       "  </tbody>\n",
       "</table>\n",
       "</div>"
      ],
      "text/plain": [
       "         Open       High        Low  Adj Close        RSI       EMAF  \\\n",
       "0   23.089287  23.114286  22.432142  19.096916  35.875684  23.552655   \n",
       "1   22.484285  22.692142  22.332144  19.145872  36.765282  23.451416   \n",
       "2   22.583929  22.683214  22.280357  19.299414  39.582099  23.376995   \n",
       "3   22.691786  23.225000  22.535713  19.756388  47.096862  23.360785   \n",
       "4   23.173929  23.313929  23.000000  19.598888  45.028756  23.328499   \n",
       "5   22.842501  22.930714  22.500000  19.234947  40.613280  23.258574   \n",
       "6   22.537500  22.563213  21.772142  18.541731  33.841003  23.117758   \n",
       "7   21.872143  22.692142  21.812857  19.277214  44.383315  23.072631   \n",
       "8   22.535713  22.639286  21.846430  18.648758  38.732730  22.961496   \n",
       "9   22.194286  22.376785  21.808571  18.754265  40.104305  22.872748   \n",
       "10  22.142857  22.214287  21.626785  18.532610  38.180356  22.767656   \n",
       "11  21.765356  21.928572  21.107143  18.364172  36.745042  22.653730   \n",
       "12  21.245714  21.498571  20.989286  18.100258  34.563812  22.521130   \n",
       "13  21.365000  21.535713  21.220358  18.137365  35.143588  22.405308   \n",
       "14  21.281786  21.319643  20.526787  17.537176  30.464267  22.233374   \n",
       "15  20.840000  20.991785  20.628571  17.774935  34.183829  22.104413   \n",
       "16  21.079643  21.097857  20.717501  17.721132  33.746061  21.981714   \n",
       "17  20.494286  20.519285  19.848213  17.043066  28.295413  21.786176   \n",
       "18  20.022499  20.079643  19.117500  16.424568  24.798298  21.540384   \n",
       "19  19.300714  19.817142  19.061428  16.708920  29.113914  21.349667   \n",
       "\n",
       "         EMAM       EMAS    Target  \n",
       "0   22.673908  21.845652  0.180298  \n",
       "1   22.670259  21.854182 -0.497114  \n",
       "2   22.670254  21.864988 -0.545149  \n",
       "3   22.680879  21.882760 -1.223778  \n",
       "4   22.687629  21.897846 -1.234716  \n",
       "5   22.685781  21.907071 -1.134689  \n",
       "6   22.667845  21.905388 -0.404366  \n",
       "7   22.667371  21.915170 -1.740038  \n",
       "8   22.652289  21.915044 -0.873823  \n",
       "9   22.639959  21.916562 -1.033133  \n",
       "10  22.622718  21.914611 -1.489544  \n",
       "11  22.601900  21.910066 -1.939604  \n",
       "12  22.575356  21.901475 -1.391338  \n",
       "13  22.550201  21.893574 -1.557642  \n",
       "14  22.511583  21.876441 -0.955311  \n",
       "15  22.479260  21.863234 -1.376942  \n",
       "16  22.446326  21.849364 -1.667055  \n",
       "17  22.396469  21.823923 -0.926065  \n",
       "18  22.333279  21.789240  0.854595  \n",
       "19  22.277924  21.759420  0.423023  "
      ]
     },
     "execution_count": 3,
     "metadata": {},
     "output_type": "execute_result"
    }
   ],
   "source": [
    "data_set = data.iloc[:, 0:9] #.values\n",
    "pd.set_option('display.max_columns', None)\n",
    "\n",
    "data_set.head(20)\n",
    "#print(data_set.shape)\n",
    "#print(data.shape)\n",
    "#print(type(data_set))\n",
    "# data_set.reset_index(inplace = True, drop=True)\n",
    "# data_set.head()\n",
    "# data_set.to_csv('stocks.csv', index=False)"
   ]
  },
  {
   "cell_type": "code",
   "execution_count": 4,
   "id": "b9d38e4c",
   "metadata": {
    "ExecuteTime": {
     "end_time": "2023-12-09T23:21:06.228030Z",
     "start_time": "2023-12-09T23:21:06.220414Z"
    }
   },
   "outputs": [
    {
     "name": "stderr",
     "output_type": "stream",
     "text": [
      "c:\\users\\jonat\\appdata\\local\\programs\\python\\python39\\lib\\site-packages\\scipy\\__init__.py:177: UserWarning: A NumPy version >=1.18.5 and <1.26.0 is required for this version of SciPy (detected version 1.26.2\n",
      "  warnings.warn(f\"A NumPy version >={np_minversion} and <{np_maxversion}\"\n"
     ]
    },
    {
     "name": "stdout",
     "output_type": "stream",
     "text": [
      "[[0.05470759 0.05242742 0.05248086 ... 0.04605846 0.03773333 0.52260579]\n",
      " [0.05112291 0.04992461 0.05187615 ... 0.04603413 0.03779186 0.50646839]\n",
      " [0.0517133  0.04987168 0.05156299 ... 0.0460341  0.037866   0.5053241 ]\n",
      " ...\n",
      " [0.74682103 0.75674189 0.76204365 ... 0.91842794 0.94932065 0.54806913]\n",
      " [0.76341129 0.76610938 0.76930024 ... 0.91686392 0.94813519 0.62907773]\n",
      " [0.76003403 0.76569432 0.74722809 ... 0.91477367 0.94658192 0.74504058]]\n"
     ]
    }
   ],
   "source": [
    "from sklearn.preprocessing import MinMaxScaler\n",
    "sc = MinMaxScaler(feature_range=(0,1))\n",
    "data_set_scaled = sc.fit_transform(data_set)\n",
    "print(data_set_scaled)"
   ]
  },
  {
   "cell_type": "code",
   "execution_count": 5,
   "id": "99ca74fd",
   "metadata": {
    "ExecuteTime": {
     "end_time": "2023-12-09T23:21:04.134343Z",
     "start_time": "2023-12-09T23:21:04.125810Z"
    }
   },
   "outputs": [
    {
     "name": "stdout",
     "output_type": "stream",
     "text": [
      "2443\n",
      "[[[0.05470759 0.05242742 0.05248086 ... 0.05398809 0.04605846 0.03773333]\n",
      "  [0.05112291 0.04992461 0.05187615 ... 0.05335498 0.04603413 0.03779186]\n",
      "  [0.0517133  0.04987168 0.05156299 ... 0.05288957 0.0460341  0.037866  ]\n",
      "  ...\n",
      "  [0.03730265 0.03552402 0.03703896 ... 0.03403626 0.04067667 0.03556804]\n",
      "  [0.03792055 0.03650439 0.03833479 ... 0.03406514 0.04048441 0.03546631]\n",
      "  [0.03976791 0.04031575 0.04073422 ... 0.03447478 0.04038098 0.03542446]]\n",
      "\n",
      " [[0.05112291 0.04992461 0.05187615 ... 0.05335498 0.04603413 0.03779186]\n",
      "  [0.0517133  0.04987168 0.05156299 ... 0.05288957 0.0460341  0.037866  ]\n",
      "  [0.05235236 0.05308381 0.05310717 ... 0.0527882  0.04610494 0.03798794]\n",
      "  ...\n",
      "  [0.03792055 0.03650439 0.03833479 ... 0.03406514 0.04048441 0.03546631]\n",
      "  [0.03976791 0.04031575 0.04073422 ... 0.03447478 0.04038098 0.03542446]\n",
      "  [0.04265638 0.04040468 0.04211427 ... 0.03474437 0.04025721 0.03536773]]\n",
      "\n",
      " [[0.0517133  0.04987168 0.05156299 ... 0.05288957 0.0460341  0.037866  ]\n",
      "  [0.05235236 0.05308381 0.05310717 ... 0.0527882  0.04610494 0.03798794]\n",
      "  [0.0552091  0.05361105 0.05591479 ... 0.0525863  0.04614995 0.03809145]\n",
      "  ...\n",
      "  [0.03976791 0.04031575 0.04073422 ... 0.03447478 0.04038098 0.03542446]\n",
      "  [0.04265638 0.04040468 0.04211427 ... 0.03474437 0.04025721 0.03536773]\n",
      "  [0.04005781 0.03942643 0.04042106 ... 0.03494915 0.0401272  0.03530579]]\n",
      "\n",
      " ...\n",
      "\n",
      " [[0.82740223 0.83701762 0.79856856 ... 0.90441133 0.98675498 0.99481821]\n",
      "  [0.76382608 0.78217634 0.75617788 ... 0.89429782 0.98395678 0.99311192]\n",
      "  [0.77460969 0.79344109 0.7822412  ... 0.88785743 0.98181476 0.99184173]\n",
      "  ...\n",
      "  [0.7084265  0.72798724 0.72303938 ... 0.78499803 0.92462802 0.95387091]\n",
      "  [0.71654384 0.73213737 0.72660719 ... 0.78196304 0.92210806 0.95205174]\n",
      "  [0.72857184 0.73705827 0.73700834 ... 0.78095621 0.92002356 0.95052203]]\n",
      "\n",
      " [[0.76382608 0.78217634 0.75617788 ... 0.89429782 0.98395678 0.99311192]\n",
      "  [0.77460969 0.79344109 0.7822412  ... 0.88785743 0.98181476 0.99184173]\n",
      "  [0.78029782 0.79000238 0.78871163 ... 0.88109533 0.97950786 0.99044568]\n",
      "  ...\n",
      "  [0.71654384 0.73213737 0.72660719 ... 0.78196304 0.92210806 0.95205174]\n",
      "  [0.72857184 0.73705827 0.73700834 ... 0.78095621 0.92002356 0.95052203]\n",
      "  [0.74682103 0.75674189 0.76204365 ... 0.78206431 0.91842794 0.94932065]]\n",
      "\n",
      " [[0.77460969 0.79344109 0.7822412  ... 0.88785743 0.98181476 0.99184173]\n",
      "  [0.78029782 0.79000238 0.78871163 ... 0.88109533 0.97950786 0.99044568]\n",
      "  [0.79990983 0.80334215 0.80382957 ... 0.87718092 0.97773518 0.98940438]\n",
      "  ...\n",
      "  [0.72857184 0.73705827 0.73700834 ... 0.78095621 0.92002356 0.95052203]\n",
      "  [0.74682103 0.75674189 0.76204365 ... 0.78206431 0.91842794 0.94932065]\n",
      "  [0.76341129 0.76610938 0.76930024 ... 0.78306688 0.91686392 0.94813519]]]\n",
      "(2413, 30, 8)\n",
      "(2413, 1)\n"
     ]
    }
   ],
   "source": [
    "# multiple feature from data provided to the model\n",
    "X = []\n",
    "#print(data_set_scaled[0].size)\n",
    "#data_set_scaled=data_set.values\n",
    "backcandles = 30 # Number of days (or weeks) want to look back\n",
    "print(data_set_scaled.shape[0])\n",
    "for j in range(8):\n",
    "    X.append([])\n",
    "    for i in range(backcandles, data_set_scaled.shape[0]): #backcandles+2\n",
    "        X[j].append(data_set_scaled[i-backcandles:i, j])\n",
    "\n",
    "#move axis from 0 to position 2\n",
    "X=np.moveaxis(X, [0], [2])\n",
    "\n",
    "#Erase first elements of y because of backcandles to match X length\n",
    "#del(yi[0:backcandles])\n",
    "#X, yi = np.array(X), np.array(yi)\n",
    "# Choose -1 for last column, classification else -2...\n",
    "X, yi =np.array(X), np.array(data_set_scaled[backcandles:,-1])\n",
    "y=np.reshape(yi,(len(yi),1))\n",
    "#y=sc.fit_transform(yi)\n",
    "#X_train = np.reshape(X_train, (X_train.shape[0], X_train.shape[1], 1))\n",
    "# make sure the shape is correct\n",
    "print(X)\n",
    "print(X.shape)\n",
    "# print(y)\n",
    "print(y.shape)\n"
   ]
  },
  {
   "cell_type": "code",
   "execution_count": 6,
   "id": "c01b699a",
   "metadata": {},
   "outputs": [],
   "source": [
    "#also comprehensions for X\n",
    "#X = np.array([data_set_scaled[i-backcandles:i,:4].copy() for i in range(backcandles,len(data_set_scaled))])\n",
    "#print(X)\n",
    "#print(X.shape)"
   ]
  },
  {
   "cell_type": "code",
   "execution_count": 7,
   "id": "a2a87918",
   "metadata": {
    "ExecuteTime": {
     "end_time": "2023-12-09T23:21:02.754027Z",
     "start_time": "2023-12-09T23:21:02.744915Z"
    }
   },
   "outputs": [
    {
     "name": "stdout",
     "output_type": "stream",
     "text": [
      "1930\n",
      "(1930, 30, 8)\n",
      "(483, 30, 8)\n",
      "(1930, 1)\n",
      "(483, 1)\n"
     ]
    }
   ],
   "source": [
    "# split data into train test sets\n",
    "splitlimit = int(len(X)*0.8)\n",
    "print(splitlimit)\n",
    "X_train, X_test = X[:splitlimit], X[splitlimit:]\n",
    "y_train, y_test = y[:splitlimit], y[splitlimit:]\n",
    "print(X_train.shape)\n",
    "print(X_test.shape)\n",
    "print(y_train.shape)\n",
    "print(y_test.shape)"
   ]
  },
  {
   "cell_type": "code",
   "execution_count": 8,
   "id": "732d10d8-33d1-4f20-8460-d78128ed3230",
   "metadata": {},
   "outputs": [],
   "source": [
    "# !pip install --upgrade tensorflow-probability"
   ]
  },
  {
   "cell_type": "markdown",
   "id": "088047d5-1974-45a5-8408-174e2f04278f",
   "metadata": {},
   "source": [
    "[Tensorflow probability documentation](https://www.tensorflow.org/probability/examples/Probabilistic_Layers_Regression)"
   ]
  },
  {
   "cell_type": "code",
   "execution_count": 16,
   "id": "9867161a",
   "metadata": {
    "ExecuteTime": {
     "end_time": "2023-12-09T23:21:37.863808Z",
     "start_time": "2023-12-09T23:21:08.297428Z"
    }
   },
   "outputs": [
    {
     "name": "stdout",
     "output_type": "stream",
     "text": [
      "<class 'numpy.ndarray'>\n",
      "Model: \"sequential_2\"\n",
      "_________________________________________________________________\n",
      " Layer (type)                Output Shape              Param #   \n",
      "=================================================================\n",
      " first_layer (LSTM)          (None, 30, 150)           95400     \n",
      "                                                                 \n",
      " second_layer (LSTM)         (None, 150)               180600    \n",
      "                                                                 \n",
      " dense_2 (Dense)             (None, 2)                 302       \n",
      "                                                                 \n",
      " distribution_lambda_1 (Dis  ((None, 1),               0         \n",
      " tributionLambda)             (None, 1))                         \n",
      "                                                                 \n",
      "=================================================================\n",
      "Total params: 276302 (1.05 MB)\n",
      "Trainable params: 276302 (1.05 MB)\n",
      "Non-trainable params: 0 (0.00 Byte)\n",
      "_________________________________________________________________\n"
     ]
    }
   ],
   "source": [
    "from keras.models import Sequential\n",
    "from keras.layers import LSTM\n",
    "from keras.layers import Dropout\n",
    "from keras.layers import Dense\n",
    "from keras.layers import TimeDistributed\n",
    "import tensorflow as tf\n",
    "import keras\n",
    "from keras import optimizers\n",
    "from keras.callbacks import History\n",
    "from keras.models import Model\n",
    "from keras.layers import Dense, Dropout, LSTM, Input, Activation, concatenate\n",
    "import tensorflow as tf\n",
    "import tensorflow_probability as tfp\n",
    "tfd = tfp.distributions\n",
    "\n",
    "print(type(X_train))\n",
    "train_dataset = tf.data.Dataset.from_tensor_slices((X_train, y_train))\n",
    "test_dataset = tf.data.Dataset.from_tensor_slices((X_test, y_test))\n",
    "\n",
    "# lstm_input = Input(shape=(backcandles, 8), name='lstm_input')\n",
    "# inputs = LSTM(150, name='first_layer')(lstm_input)\n",
    "# inputs = Dense(1, name='dense_layer')(inputs)\n",
    "# output = Activation('linear', name='output')(inputs)\n",
    "# model = Model(inputs=lstm_input, outputs=output)\n",
    "# adam = optimizers.Adam()\n",
    "# model.compile(optimizer=adam, loss='mse')\n",
    "\n",
    "negloglik = lambda y, rv_y: -rv_y.log_prob(y)\n",
    "\n",
    "\n",
    "model = Sequential()\n",
    "model.add(LSTM(150, name='first_layer', return_sequences=True, input_shape = (backcandles, 8)))\n",
    "model.add(LSTM(150, name='second_layer'))\n",
    "model.add(Dense(2, activation='relu')) # 2 as you want to predict mean and variance\n",
    "model.add(  tfp.layers.DistributionLambda(\n",
    "      lambda t: tfd.Normal(loc=t[..., :1],\n",
    "                           scale=1e-3 + tf.math.softplus(0.05 * t[...,1:])))) # note this\n",
    "\n",
    "model.compile(optimizer='adam', loss=negloglik) # metrics=[keras.metrics.Accuracy()]\n",
    "model.summary()"
   ]
  },
  {
   "cell_type": "code",
   "execution_count": 17,
   "id": "fbe790d9-7175-4b26-ab44-170463f9dc47",
   "metadata": {},
   "outputs": [
    {
     "name": "stdout",
     "output_type": "stream",
     "text": [
      "Epoch 1/10\n",
      "61/61 [==============================] - 12s 95ms/step - loss: 0.5753 - val_loss: 0.5845\n",
      "Epoch 2/10\n",
      "61/61 [==============================] - 4s 70ms/step - loss: 0.5568 - val_loss: 0.5833\n",
      "Epoch 3/10\n",
      "61/61 [==============================] - 4s 68ms/step - loss: 0.5561 - val_loss: 0.5910\n",
      "Epoch 4/10\n",
      "61/61 [==============================] - 4s 72ms/step - loss: 0.5563 - val_loss: 0.5872\n",
      "Epoch 5/10\n",
      "61/61 [==============================] - 4s 68ms/step - loss: 0.5562 - val_loss: 0.5955\n",
      "Epoch 6/10\n",
      "61/61 [==============================] - 4s 70ms/step - loss: 0.5564 - val_loss: 0.5899\n",
      "Epoch 7/10\n",
      "61/61 [==============================] - 4s 67ms/step - loss: 0.5560 - val_loss: 0.5937\n",
      "Epoch 8/10\n",
      "61/61 [==============================] - 4s 67ms/step - loss: 0.5562 - val_loss: 0.5956\n",
      "Epoch 9/10\n",
      "61/61 [==============================] - 4s 69ms/step - loss: 0.5561 - val_loss: 0.5905\n",
      "Epoch 10/10\n",
      "61/61 [==============================] - 4s 66ms/step - loss: 0.5561 - val_loss: 0.5829\n"
     ]
    },
    {
     "data": {
      "text/plain": [
       "<keras.src.callbacks.History at 0x2a49718ddf0>"
      ]
     },
     "execution_count": 17,
     "metadata": {},
     "output_type": "execute_result"
    }
   ],
   "source": [
    "# model.fit(x=X_train, y=y_train, batch_size=15, epochs=15, shuffle=True, validation_split = 0.1)\n",
    "model.fit(x=X_train, y=y_train, batch_size=32, epochs=10, validation_data=(X_test,y_test),verbose=1)"
   ]
  },
  {
   "cell_type": "code",
   "execution_count": 11,
   "id": "d4a14d4a-fbb9-4d60-8478-58ce45d6f183",
   "metadata": {},
   "outputs": [],
   "source": [
    "# model.evaluate(X_test, y_test)\n",
    "# # access validation accuracy for each epoch\n",
    "# model.metrics_names\n",
    "# # acc = model.history.history['val_accuracy']\n",
    "# # print(acc)\n",
    "\n",
    "# # # access validation loss for each epoch\n",
    "# # loss_val = model.history.history['val_loss']\n",
    "# # print(loss_val)"
   ]
  },
  {
   "cell_type": "code",
   "execution_count": 19,
   "id": "d5034f06-1c89-41c9-b981-e4a21bd29c6f",
   "metadata": {},
   "outputs": [
    {
     "name": "stdout",
     "output_type": "stream",
     "text": [
      "<class 'tensorflow.python.framework.ops.EagerTensor'>\n"
     ]
    },
    {
     "data": {
      "text/plain": [
       "Text(0.5, 1.0, 'Tensorflow probability implementation')"
      ]
     },
     "execution_count": 19,
     "metadata": {},
     "output_type": "execute_result"
    },
    {
     "data": {
      "image/png": "[encoded data removed]",
      "text/plain": [
       "<Figure size 432x288 with 1 Axes>"
      ]
     },
     "metadata": {
      "needs_background": "light"
     },
     "output_type": "display_data"
    }
   ],
   "source": [
    "# representing aleatoric uncertainty from tfp documentation\n",
    "# [print(np.squeeze(w.numpy())) for w in model.weights];\n",
    "yhat = model(X_test)\n",
    "assert isinstance(yhat, tfd.Distribution)\n",
    "\n",
    "plt.plot(np.arange(len(X_test)), y_test, 'b.', label='observed');\n",
    "\n",
    "m = yhat.mean()\n",
    "print(type(m))\n",
    "s = yhat.stddev()\n",
    "\n",
    "plt.plot(np.arange(len(X_test)), m, 'r', linewidth=4, label='mean');\n",
    "# confidence interval is extremely wide\n",
    "# plt.plot(np.arange(len(X_test)), m + 2 * s, 'g', linewidth=2, label=r'mean + 2 stddev');\n",
    "# plt.plot(np.arange(len(X_test)), m - 2 * s, 'g', linewidth=2, label=r'mean - 2 stddev');\n",
    "\n",
    "ax=plt.gca();\n",
    "ax.xaxis.set_ticks_position('bottom')\n",
    "ax.yaxis.set_ticks_position('left')\n",
    "ax.spines['left'].set_position(('data', 0))\n",
    "ax.spines['top'].set_visible(False)\n",
    "ax.spines['right'].set_visible(False)\n",
    "#ax.spines['left'].set_smart_bounds(True)\n",
    "#ax.spines['bottom'].set_smart_bounds(True)\n",
    "plt.legend(loc='center left', fancybox=True, framealpha=0., bbox_to_anchor=(1.05, 0.5))\n",
    "plt.title('Tensorflow probability implementation')"
   ]
  },
  {
   "cell_type": "code",
   "execution_count": 20,
   "id": "67f5e31a",
   "metadata": {
    "ExecuteTime": {
     "end_time": "2023-12-09T23:22:27.363918Z",
     "start_time": "2023-12-09T23:22:27.192722Z"
    }
   },
   "outputs": [
    {
     "name": "stdout",
     "output_type": "stream",
     "text": [
      "Epoch 1/10\n",
      "61/61 [==============================] - 12s 92ms/step - loss: 0.0135 - val_loss: 0.0282\n",
      "Epoch 2/10\n",
      "61/61 [==============================] - 4s 72ms/step - loss: 0.0024 - val_loss: 0.0355\n",
      "Epoch 3/10\n",
      "61/61 [==============================] - 4s 72ms/step - loss: 0.0025 - val_loss: 0.0314\n",
      "Epoch 4/10\n",
      "61/61 [==============================] - 4s 70ms/step - loss: 0.0022 - val_loss: 0.0349\n",
      "Epoch 5/10\n",
      "61/61 [==============================] - 4s 68ms/step - loss: 0.0023 - val_loss: 0.0384\n",
      "Epoch 6/10\n",
      "61/61 [==============================] - 4s 70ms/step - loss: 0.0023 - val_loss: 0.0303\n",
      "Epoch 7/10\n",
      "61/61 [==============================] - 4s 69ms/step - loss: 0.0021 - val_loss: 0.0388\n",
      "Epoch 8/10\n",
      "61/61 [==============================] - 4s 70ms/step - loss: 0.0021 - val_loss: 0.0347\n",
      "Epoch 9/10\n",
      "61/61 [==============================] - 4s 70ms/step - loss: 0.0021 - val_loss: 0.0294\n",
      "Epoch 10/10\n",
      "61/61 [==============================] - 4s 69ms/step - loss: 0.0022 - val_loss: 0.0442\n"
     ]
    },
    {
     "data": {
      "text/plain": [
       "<keras.src.callbacks.History at 0x2a49bd3bb80>"
      ]
     },
     "execution_count": 20,
     "metadata": {},
     "output_type": "execute_result"
    }
   ],
   "source": [
    "# implement a default model that predicts change in price only\n",
    "model2 = Sequential()\n",
    "model2.add(LSTM(150, name='first_layer', return_sequences=True, input_shape = (backcandles, 8)))\n",
    "model2.add(LSTM(150, name='second_layer'))\n",
    "model2.add(Dense(1, activation='relu'))\n",
    "model2.compile(optimizer='adam', loss='mse') # metrics=[keras.metrics.Accuracy()]\n",
    "model2.fit(x=X_train, y=y_train, batch_size=32, epochs=10, validation_data=(X_test,y_test), verbose=1)"
   ]
  },
  {
   "cell_type": "code",
   "execution_count": 21,
   "id": "3d02f6ed-cc1a-4db9-b8c6-a20fa6417e2c",
   "metadata": {},
   "outputs": [
    {
     "name": "stdout",
     "output_type": "stream",
     "text": [
      "16/16 [==============================] - 2s 24ms/step\n",
      "<class 'numpy.ndarray'>\n"
     ]
    },
    {
     "data": {
      "text/plain": [
       "Text(0.5, 1.0, 'Default MSE loss function implementation')"
      ]
     },
     "execution_count": 21,
     "metadata": {},
     "output_type": "execute_result"
    },
    {
     "data": {
      "image/png": "[encoded data removed]",
      "text/plain": [
       "<Figure size 432x288 with 1 Axes>"
      ]
     },
     "metadata": {
      "needs_background": "light"
     },
     "output_type": "display_data"
    }
   ],
   "source": [
    "yhat2 = model2.predict(X_test)\n",
    "print(type(yhat2))\n",
    "plt.plot(np.arange(len(X_test)), y_test, 'b.', label='observed');\n",
    "plt.plot(np.arange(len(X_test)), yhat2, 'r', linewidth=4, label='pred2');\n",
    "\n",
    "ax=plt.gca();\n",
    "ax.xaxis.set_ticks_position('bottom')\n",
    "ax.yaxis.set_ticks_position('left')\n",
    "ax.spines['left'].set_position(('data', 0))\n",
    "ax.spines['top'].set_visible(False)\n",
    "ax.spines['right'].set_visible(False)\n",
    "#ax.spines['left'].set_smart_bounds(True)\n",
    "#ax.spines['bottom'].set_smart_bounds(True)\n",
    "plt.legend(loc='center left', fancybox=True, framealpha=0., bbox_to_anchor=(1.05, 0.5))\n",
    "plt.title(\"Default MSE loss function implementation\")"
   ]
  },
  {
   "cell_type": "code",
   "execution_count": null,
   "id": "258e5732-236d-44f9-80e7-1a4268761964",
   "metadata": {},
   "outputs": [],
   "source": []
  }
 ],
 "metadata": {
  "kernelspec": {
   "display_name": "Python 3 (ipykernel)",
   "language": "python",
   "name": "python3"
  },
  "language_info": {
   "codemirror_mode": {
    "name": "ipython",
    "version": 3
   },
   "file_extension": ".py",
   "mimetype": "text/x-python",
   "name": "python",
   "nbconvert_exporter": "python",
   "pygments_lexer": "ipython3",
   "version": "3.9.6"
  }
 },
 "nbformat": 4,
 "nbformat_minor": 5
}
