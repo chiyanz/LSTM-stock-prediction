{
 "cells": [
  {
   "cell_type": "code",
   "execution_count": 1,
   "id": "b29811c3",
   "metadata": {
    "ExecuteTime": {
     "end_time": "2023-12-09T23:14:01.924291Z",
     "start_time": "2023-12-09T23:14:01.675904Z"
    }
   },
   "outputs": [
    {
     "name": "stdout",
     "output_type": "stream",
     "text": [
      "[*********************100%%**********************]  1 of 1 completed\n",
      "(2599, 6)\n"
     ]
    },
    {
     "data": {
      "text/html": [
       "<div>\n",
       "<style scoped>\n",
       "    .dataframe tbody tr th:only-of-type {\n",
       "        vertical-align: middle;\n",
       "    }\n",
       "\n",
       "    .dataframe tbody tr th {\n",
       "        vertical-align: top;\n",
       "    }\n",
       "\n",
       "    .dataframe thead th {\n",
       "        text-align: right;\n",
       "    }\n",
       "</style>\n",
       "<table border=\"1\" class=\"dataframe\">\n",
       "  <thead>\n",
       "    <tr style=\"text-align: right;\">\n",
       "      <th></th>\n",
       "      <th>Open</th>\n",
       "      <th>High</th>\n",
       "      <th>Low</th>\n",
       "      <th>Close</th>\n",
       "      <th>Adj Close</th>\n",
       "      <th>Volume</th>\n",
       "    </tr>\n",
       "    <tr>\n",
       "      <th>Date</th>\n",
       "      <th></th>\n",
       "      <th></th>\n",
       "      <th></th>\n",
       "      <th></th>\n",
       "      <th></th>\n",
       "      <th></th>\n",
       "    </tr>\n",
       "  </thead>\n",
       "  <tbody>\n",
       "    <tr>\n",
       "      <th>2012-03-12</th>\n",
       "      <td>19.606428</td>\n",
       "      <td>19.714287</td>\n",
       "      <td>19.535713</td>\n",
       "      <td>19.714287</td>\n",
       "      <td>16.711405</td>\n",
       "      <td>407282400</td>\n",
       "    </tr>\n",
       "    <tr>\n",
       "      <th>2012-03-13</th>\n",
       "      <td>19.912144</td>\n",
       "      <td>20.292143</td>\n",
       "      <td>19.848213</td>\n",
       "      <td>20.289286</td>\n",
       "      <td>17.198820</td>\n",
       "      <td>690855200</td>\n",
       "    </tr>\n",
       "    <tr>\n",
       "      <th>2012-03-14</th>\n",
       "      <td>20.644644</td>\n",
       "      <td>21.240000</td>\n",
       "      <td>20.549999</td>\n",
       "      <td>21.056429</td>\n",
       "      <td>17.849110</td>\n",
       "      <td>1418844000</td>\n",
       "    </tr>\n",
       "    <tr>\n",
       "      <th>2012-03-15</th>\n",
       "      <td>21.414642</td>\n",
       "      <td>21.428928</td>\n",
       "      <td>20.662500</td>\n",
       "      <td>20.912857</td>\n",
       "      <td>17.727400</td>\n",
       "      <td>1159718000</td>\n",
       "    </tr>\n",
       "    <tr>\n",
       "      <th>2012-03-16</th>\n",
       "      <td>20.882856</td>\n",
       "      <td>21.042856</td>\n",
       "      <td>20.642857</td>\n",
       "      <td>20.913214</td>\n",
       "      <td>17.727711</td>\n",
       "      <td>825487600</td>\n",
       "    </tr>\n",
       "  </tbody>\n",
       "</table>\n",
       "</div>"
      ],
      "text/plain": [
       "                 Open       High        Low      Close  Adj Close      Volume\n",
       "Date                                                                         \n",
       "2012-03-12  19.606428  19.714287  19.535713  19.714287  16.711405   407282400\n",
       "2012-03-13  19.912144  20.292143  19.848213  20.289286  17.198820   690855200\n",
       "2012-03-14  20.644644  21.240000  20.549999  21.056429  17.849110  1418844000\n",
       "2012-03-15  21.414642  21.428928  20.662500  20.912857  17.727400  1159718000\n",
       "2012-03-16  20.882856  21.042856  20.642857  20.913214  17.727711   825487600"
      ]
     },
     "execution_count": 1,
     "metadata": {},
     "output_type": "execute_result"
    }
   ],
   "source": [
    "import numpy as np\n",
    "import matplotlib.pyplot as plt\n",
    "import pandas as pd\n",
    "import yfinance as yf\n",
    "import pandas_ta as ta\n",
    "data = yf.download(tickers = ['AAPL'], start = '2012-03-11',end = '2022-07-10')\n",
    "\n",
    "data.head(10)\n",
    "print(data.shape)\n",
    "data.head()"
   ]
  },
  {
   "cell_type": "code",
   "execution_count": 2,
   "id": "68e700e1",
   "metadata": {
    "ExecuteTime": {
     "end_time": "2023-12-09T23:14:04.225280Z",
     "start_time": "2023-12-09T23:14:04.201571Z"
    }
   },
   "outputs": [
    {
     "name": "stdout",
     "output_type": "stream",
     "text": [
      "(2592, 7)\n"
     ]
    }
   ],
   "source": [
    "# Adding indicators\n",
    "# data['RSI']=ta.rsi(data.Close, length=15)\n",
    "# data['EMAF']=ta.ema(data.Close, length=20)\n",
    "# data['EMAM']=ta.ema(data.Close, length=100)\n",
    "# data['EMAS']=ta.ema(data.Close, length=150)\n",
    "\n",
    "# data['Next Close'] = data['Adj Close'].shift(-7)\n",
    "# target prediction value: the change in closing price next week\n",
    "# data['Target'] = data['Next Close'] - data['Adj Close']\n",
    "data['Target'] = data['Adj Close'].shift(-7)\n",
    "\n",
    "# data['TargetClass'] = [1 if data.Target[i]>0 else 0 for i in range(len(data))]\n",
    "\n",
    "# target is next week's closing price\n",
    "# data['TargetNextClose'] = data['Adj Close'].shift(-7)\n",
    "\n",
    "# Display the resulting DataFrame\n",
    "data.dropna(inplace=True)\n",
    "\n",
    "# Resample to weekly frequency and calculate the mean\n",
    "# df_weekly = data.resample('W').mean()\n",
    "\n",
    "# Reset index to make 'date' a column again\n",
    "# df_weekly.reset_index(inplace=True)\n",
    "# df_weekly.dropna(inplace=True)\n",
    "# df_weekly.reset_index(inplace = True)\n",
    "\n",
    "data.reset_index(inplace = True)\n",
    "\n",
    "# Target column Categories\n",
    "# data['y'] =[1 if data.Open[i]>data.Close[i] else 0 for i in range(0, len(data))]\n",
    "# data['yi'] = [data.Open[i]-data.Close[i] for i in range(0, len(data))]\n",
    "# print(len(yi))\n",
    "\n",
    "data.drop(['Date'], axis=1, inplace=True) #'Next Close' 'Adj Close', 'Open', 'Close',\n",
    "# df_weekly.drop(['index', 'Volume', 'Close'], axis=1, inplace=True)\n",
    "print(data.shape)\n",
    "# print(df_weekly.head())"
   ]
  },
  {
   "cell_type": "code",
   "execution_count": 3,
   "id": "a2b0e972",
   "metadata": {
    "ExecuteTime": {
     "end_time": "2023-12-09T23:14:06.290054Z",
     "start_time": "2023-12-09T23:14:06.279714Z"
    }
   },
   "outputs": [
    {
     "data": {
      "text/html": [
       "<div>\n",
       "<style scoped>\n",
       "    .dataframe tbody tr th:only-of-type {\n",
       "        vertical-align: middle;\n",
       "    }\n",
       "\n",
       "    .dataframe tbody tr th {\n",
       "        vertical-align: top;\n",
       "    }\n",
       "\n",
       "    .dataframe thead th {\n",
       "        text-align: right;\n",
       "    }\n",
       "</style>\n",
       "<table border=\"1\" class=\"dataframe\">\n",
       "  <thead>\n",
       "    <tr style=\"text-align: right;\">\n",
       "      <th></th>\n",
       "      <th>Open</th>\n",
       "      <th>High</th>\n",
       "      <th>Low</th>\n",
       "      <th>Close</th>\n",
       "      <th>Adj Close</th>\n",
       "      <th>Volume</th>\n",
       "      <th>Target</th>\n",
       "    </tr>\n",
       "  </thead>\n",
       "  <tbody>\n",
       "    <tr>\n",
       "      <th>0</th>\n",
       "      <td>19.606428</td>\n",
       "      <td>19.714287</td>\n",
       "      <td>19.535713</td>\n",
       "      <td>19.714287</td>\n",
       "      <td>16.711405</td>\n",
       "      <td>407282400</td>\n",
       "      <td>18.240253</td>\n",
       "    </tr>\n",
       "    <tr>\n",
       "      <th>1</th>\n",
       "      <td>19.912144</td>\n",
       "      <td>20.292143</td>\n",
       "      <td>19.848213</td>\n",
       "      <td>20.289286</td>\n",
       "      <td>17.198820</td>\n",
       "      <td>690855200</td>\n",
       "      <td>18.144575</td>\n",
       "    </tr>\n",
       "    <tr>\n",
       "      <th>2</th>\n",
       "      <td>20.644644</td>\n",
       "      <td>21.240000</td>\n",
       "      <td>20.549999</td>\n",
       "      <td>21.056429</td>\n",
       "      <td>17.849110</td>\n",
       "      <td>1418844000</td>\n",
       "      <td>18.044983</td>\n",
       "    </tr>\n",
       "    <tr>\n",
       "      <th>3</th>\n",
       "      <td>21.414642</td>\n",
       "      <td>21.428928</td>\n",
       "      <td>20.662500</td>\n",
       "      <td>20.912857</td>\n",
       "      <td>17.727400</td>\n",
       "      <td>1159718000</td>\n",
       "      <td>18.375881</td>\n",
       "    </tr>\n",
       "    <tr>\n",
       "      <th>4</th>\n",
       "      <td>20.882856</td>\n",
       "      <td>21.042856</td>\n",
       "      <td>20.642857</td>\n",
       "      <td>20.913214</td>\n",
       "      <td>17.727711</td>\n",
       "      <td>825487600</td>\n",
       "      <td>18.602932</td>\n",
       "    </tr>\n",
       "    <tr>\n",
       "      <th>5</th>\n",
       "      <td>21.370358</td>\n",
       "      <td>21.491785</td>\n",
       "      <td>21.037500</td>\n",
       "      <td>21.467857</td>\n",
       "      <td>18.197865</td>\n",
       "      <td>901236000</td>\n",
       "      <td>18.698004</td>\n",
       "    </tr>\n",
       "    <tr>\n",
       "      <th>6</th>\n",
       "      <td>21.411072</td>\n",
       "      <td>21.674999</td>\n",
       "      <td>21.124287</td>\n",
       "      <td>21.641430</td>\n",
       "      <td>18.344997</td>\n",
       "      <td>816662000</td>\n",
       "      <td>18.463070</td>\n",
       "    </tr>\n",
       "    <tr>\n",
       "      <th>7</th>\n",
       "      <td>21.526428</td>\n",
       "      <td>21.773214</td>\n",
       "      <td>21.478930</td>\n",
       "      <td>21.517857</td>\n",
       "      <td>18.240253</td>\n",
       "      <td>644042000</td>\n",
       "      <td>18.150940</td>\n",
       "    </tr>\n",
       "    <tr>\n",
       "      <th>8</th>\n",
       "      <td>21.349285</td>\n",
       "      <td>21.589287</td>\n",
       "      <td>21.268929</td>\n",
       "      <td>21.405001</td>\n",
       "      <td>18.144575</td>\n",
       "      <td>623870800</td>\n",
       "      <td>18.728577</td>\n",
       "    </tr>\n",
       "    <tr>\n",
       "      <th>9</th>\n",
       "      <td>21.446072</td>\n",
       "      <td>21.492857</td>\n",
       "      <td>21.228571</td>\n",
       "      <td>21.287500</td>\n",
       "      <td>18.044983</td>\n",
       "      <td>430488800</td>\n",
       "      <td>19.052202</td>\n",
       "    </tr>\n",
       "    <tr>\n",
       "      <th>10</th>\n",
       "      <td>21.421070</td>\n",
       "      <td>21.683929</td>\n",
       "      <td>21.259287</td>\n",
       "      <td>21.677856</td>\n",
       "      <td>18.375881</td>\n",
       "      <td>595742000</td>\n",
       "      <td>18.900536</td>\n",
       "    </tr>\n",
       "    <tr>\n",
       "      <th>11</th>\n",
       "      <td>21.649286</td>\n",
       "      <td>22.010000</td>\n",
       "      <td>21.645000</td>\n",
       "      <td>21.945715</td>\n",
       "      <td>18.602932</td>\n",
       "      <td>607129600</td>\n",
       "      <td>19.184202</td>\n",
       "    </tr>\n",
       "    <tr>\n",
       "      <th>12</th>\n",
       "      <td>22.084999</td>\n",
       "      <td>22.194643</td>\n",
       "      <td>21.796785</td>\n",
       "      <td>22.057858</td>\n",
       "      <td>18.698004</td>\n",
       "      <td>655460400</td>\n",
       "      <td>19.261406</td>\n",
       "    </tr>\n",
       "    <tr>\n",
       "      <th>13</th>\n",
       "      <td>21.885000</td>\n",
       "      <td>22.020000</td>\n",
       "      <td>21.686787</td>\n",
       "      <td>21.780714</td>\n",
       "      <td>18.463070</td>\n",
       "      <td>608238400</td>\n",
       "      <td>19.025566</td>\n",
       "    </tr>\n",
       "    <tr>\n",
       "      <th>14</th>\n",
       "      <td>21.741785</td>\n",
       "      <td>21.805714</td>\n",
       "      <td>21.355000</td>\n",
       "      <td>21.412500</td>\n",
       "      <td>18.150940</td>\n",
       "      <td>731038000</td>\n",
       "      <td>18.957750</td>\n",
       "    </tr>\n",
       "    <tr>\n",
       "      <th>15</th>\n",
       "      <td>21.493929</td>\n",
       "      <td>22.098928</td>\n",
       "      <td>21.442142</td>\n",
       "      <td>22.093929</td>\n",
       "      <td>18.728577</td>\n",
       "      <td>598351600</td>\n",
       "      <td>18.853910</td>\n",
       "    </tr>\n",
       "    <tr>\n",
       "      <th>16</th>\n",
       "      <td>22.403570</td>\n",
       "      <td>22.578930</td>\n",
       "      <td>22.232500</td>\n",
       "      <td>22.475714</td>\n",
       "      <td>19.052202</td>\n",
       "      <td>834559600</td>\n",
       "      <td>18.322903</td>\n",
       "    </tr>\n",
       "    <tr>\n",
       "      <th>17</th>\n",
       "      <td>22.298214</td>\n",
       "      <td>22.352142</td>\n",
       "      <td>22.035713</td>\n",
       "      <td>22.296785</td>\n",
       "      <td>18.900536</td>\n",
       "      <td>572980800</td>\n",
       "      <td>17.563021</td>\n",
       "    </tr>\n",
       "    <tr>\n",
       "      <th>18</th>\n",
       "      <td>22.392143</td>\n",
       "      <td>22.666430</td>\n",
       "      <td>22.264286</td>\n",
       "      <td>22.631430</td>\n",
       "      <td>19.184202</td>\n",
       "      <td>641298000</td>\n",
       "      <td>18.458227</td>\n",
       "    </tr>\n",
       "    <tr>\n",
       "      <th>19</th>\n",
       "      <td>22.361786</td>\n",
       "      <td>22.851429</td>\n",
       "      <td>22.332144</td>\n",
       "      <td>22.722500</td>\n",
       "      <td>19.261406</td>\n",
       "      <td>597536800</td>\n",
       "      <td>18.417055</td>\n",
       "    </tr>\n",
       "  </tbody>\n",
       "</table>\n",
       "</div>"
      ],
      "text/plain": [
       "         Open       High        Low      Close  Adj Close      Volume  \\\n",
       "0   19.606428  19.714287  19.535713  19.714287  16.711405   407282400   \n",
       "1   19.912144  20.292143  19.848213  20.289286  17.198820   690855200   \n",
       "2   20.644644  21.240000  20.549999  21.056429  17.849110  1418844000   \n",
       "3   21.414642  21.428928  20.662500  20.912857  17.727400  1159718000   \n",
       "4   20.882856  21.042856  20.642857  20.913214  17.727711   825487600   \n",
       "5   21.370358  21.491785  21.037500  21.467857  18.197865   901236000   \n",
       "6   21.411072  21.674999  21.124287  21.641430  18.344997   816662000   \n",
       "7   21.526428  21.773214  21.478930  21.517857  18.240253   644042000   \n",
       "8   21.349285  21.589287  21.268929  21.405001  18.144575   623870800   \n",
       "9   21.446072  21.492857  21.228571  21.287500  18.044983   430488800   \n",
       "10  21.421070  21.683929  21.259287  21.677856  18.375881   595742000   \n",
       "11  21.649286  22.010000  21.645000  21.945715  18.602932   607129600   \n",
       "12  22.084999  22.194643  21.796785  22.057858  18.698004   655460400   \n",
       "13  21.885000  22.020000  21.686787  21.780714  18.463070   608238400   \n",
       "14  21.741785  21.805714  21.355000  21.412500  18.150940   731038000   \n",
       "15  21.493929  22.098928  21.442142  22.093929  18.728577   598351600   \n",
       "16  22.403570  22.578930  22.232500  22.475714  19.052202   834559600   \n",
       "17  22.298214  22.352142  22.035713  22.296785  18.900536   572980800   \n",
       "18  22.392143  22.666430  22.264286  22.631430  19.184202   641298000   \n",
       "19  22.361786  22.851429  22.332144  22.722500  19.261406   597536800   \n",
       "\n",
       "       Target  \n",
       "0   18.240253  \n",
       "1   18.144575  \n",
       "2   18.044983  \n",
       "3   18.375881  \n",
       "4   18.602932  \n",
       "5   18.698004  \n",
       "6   18.463070  \n",
       "7   18.150940  \n",
       "8   18.728577  \n",
       "9   19.052202  \n",
       "10  18.900536  \n",
       "11  19.184202  \n",
       "12  19.261406  \n",
       "13  19.025566  \n",
       "14  18.957750  \n",
       "15  18.853910  \n",
       "16  18.322903  \n",
       "17  17.563021  \n",
       "18  18.458227  \n",
       "19  18.417055  "
      ]
     },
     "execution_count": 3,
     "metadata": {},
     "output_type": "execute_result"
    }
   ],
   "source": [
    "data_set = data.iloc[:, 0:10] #.values\n",
    "pd.set_option('display.max_columns', None)\n",
    "\n",
    "data_set.head(20)\n",
    "#print(data_set.shape)\n",
    "#print(data.shape)\n",
    "#print(type(data_set))\n",
    "# data_set.reset_index(inplace = True, drop=True)\n",
    "# data_set.head()\n",
    "# data_set.to_csv('stocks.csv', index=False)"
   ]
  },
  {
   "cell_type": "code",
   "execution_count": 4,
   "id": "b9d38e4c",
   "metadata": {
    "ExecuteTime": {
     "end_time": "2023-12-09T23:21:06.228030Z",
     "start_time": "2023-12-09T23:21:06.220414Z"
    }
   },
   "outputs": [
    {
     "name": "stderr",
     "output_type": "stream",
     "text": [
      "c:\\users\\jonat\\appdata\\local\\programs\\python\\python39\\lib\\site-packages\\scipy\\__init__.py:177: UserWarning: A NumPy version >=1.18.5 and <1.26.0 is required for this version of SciPy (detected version 1.26.2\n",
      "  warnings.warn(f\"A NumPy version >={np_minversion} and <{np_maxversion}\"\n"
     ]
    },
    {
     "name": "stdout",
     "output_type": "stream",
     "text": [
      "[[0.03407136 0.03226954 0.03496564 ... 0.02806612 0.25797217 0.03716878]\n",
      " [0.03588275 0.03569553 0.03685538 ... 0.03096816 0.45769208 0.03659911]\n",
      " [0.04022287 0.04131517 0.04109921 ... 0.03483993 0.97041354 0.03600615]\n",
      " ...\n",
      " [0.74682103 0.75674189 0.76204365 ... 0.76476234 0.03388859 0.77219985]\n",
      " [0.76341129 0.76610938 0.76930024 ... 0.76476234 0.02057108 0.79244653]\n",
      " [0.76003403 0.76569432 0.74722809 ... 0.73985225 0.0183705  0.7965195 ]]\n"
     ]
    }
   ],
   "source": [
    "from sklearn.preprocessing import MinMaxScaler\n",
    "sc = MinMaxScaler(feature_range=(0,1))\n",
    "data_set_scaled = sc.fit_transform(data_set)\n",
    "print(data_set_scaled)"
   ]
  },
  {
   "cell_type": "code",
   "execution_count": 5,
   "id": "99ca74fd",
   "metadata": {
    "ExecuteTime": {
     "end_time": "2023-12-09T23:21:04.134343Z",
     "start_time": "2023-12-09T23:21:04.125810Z"
    }
   },
   "outputs": [
    {
     "name": "stdout",
     "output_type": "stream",
     "text": [
      "2592\n",
      "[[[0.03407136 0.03226954 0.03496564 0.03431335 0.02806612 0.25797217]\n",
      "  [0.03588275 0.03569553 0.03685538 0.03773469 0.03096816 0.45769208]\n",
      "  [0.04022287 0.04131517 0.04109921 0.04229932 0.03483993 0.97041354]\n",
      "  ...\n",
      "  [0.04491426 0.04343471 0.04306886 0.04184455 0.03445415 0.55901529]\n",
      "  [0.04304363 0.041294   0.04002368 0.03877172 0.03184779 0.69724515]\n",
      "  [0.03864849 0.03749323 0.03704328 0.0384997  0.03161703 0.65184888]]\n",
      "\n",
      " [[0.03588275 0.03569553 0.03685538 0.03773469 0.03096816 0.45769208]\n",
      "  [0.04022287 0.04131517 0.04109921 0.04229932 0.03483993 0.97041354]\n",
      "  [0.04478518 0.04243529 0.04177952 0.04144504 0.03411528 0.78791148]\n",
      "  ...\n",
      "  [0.04304363 0.041294   0.04002368 0.03877172 0.03184779 0.69724515]\n",
      "  [0.03864849 0.03749323 0.03704328 0.0384997  0.03161703 0.65184888]\n",
      "  [0.0369556  0.03559177 0.03669341 0.03607289 0.02955858 0.72905409]]\n",
      "\n",
      " [[0.04022287 0.04131517 0.04109921 0.04229932 0.03483993 0.97041354]\n",
      "  [0.04478518 0.04243529 0.04177952 0.04144504 0.03411528 0.78791148]\n",
      "  [0.0416343  0.04014635 0.04166073 0.04144716 0.03411713 0.55251349]\n",
      "  ...\n",
      "  [0.03864849 0.03749323 0.03704328 0.0384997  0.03161703 0.65184888]\n",
      "  [0.0369556  0.03559177 0.03669341 0.03607289 0.02955858 0.72905409]\n",
      "  [0.04817729 0.04624453 0.04770791 0.04663868 0.03852067 0.60906162]]\n",
      "\n",
      " ...\n",
      "\n",
      " [[0.82740223 0.83701762 0.79856856 0.78870958 0.79333195 0.07161998]\n",
      "  [0.76382608 0.78217634 0.75617788 0.76526591 0.77007487 0.09973008]\n",
      "  [0.77460969 0.79344109 0.7822412  0.79233919 0.79693259 0.05140739]\n",
      "  ...\n",
      "  [0.7084265  0.72798724 0.72303938 0.72545927 0.73058485 0.02817229]\n",
      "  [0.71654384 0.73213737 0.72660719 0.72236525 0.72751541 0.02282575]\n",
      "  [0.72857184 0.73705827 0.73700834 0.73973973 0.74475169 0.02213878]]\n",
      "\n",
      " [[0.76382608 0.78217634 0.75617788 0.76526591 0.77007487 0.09973008]\n",
      "  [0.77460969 0.79344109 0.7822412  0.79233919 0.79693259 0.05140739]\n",
      "  [0.78029782 0.79000238 0.78871163 0.78299738 0.78766529 0.03214686]\n",
      "  ...\n",
      "  [0.71654384 0.73213737 0.72660719 0.72236525 0.72751541 0.02282575]\n",
      "  [0.72857184 0.73705827 0.73700834 0.73973973 0.74475169 0.02213878]\n",
      "  [0.74682103 0.75674189 0.76204365 0.75991079 0.76476234 0.03388859]]\n",
      "\n",
      " [[0.77460969 0.79344109 0.7822412  0.79233919 0.79693259 0.05140739]\n",
      "  [0.78029782 0.79000238 0.78871163 0.78299738 0.78766529 0.03214686]\n",
      "  [0.79990983 0.80334215 0.80382957 0.80501307 0.80950574 0.0262959 ]\n",
      "  ...\n",
      "  [0.72857184 0.73705827 0.73700834 0.73973973 0.74475169 0.02213878]\n",
      "  [0.74682103 0.75674189 0.76204365 0.75991079 0.76476234 0.03388859]\n",
      "  [0.76341129 0.76610938 0.76930024 0.75991079 0.76476234 0.02057108]]]\n",
      "(2562, 30, 6)\n",
      "(2562, 1)\n"
     ]
    }
   ],
   "source": [
    "# multiple feature from data provided to the model\n",
    "X = []\n",
    "#print(data_set_scaled[0].size)\n",
    "#data_set_scaled=data_set.values\n",
    "backcandles = 30 # Number of days (or weeks) want to look back\n",
    "print(data_set_scaled.shape[0])\n",
    "for j in range(6):\n",
    "    X.append([])\n",
    "    for i in range(backcandles, data_set_scaled.shape[0]): #backcandles+2\n",
    "        X[j].append(data_set_scaled[i-backcandles:i, j])\n",
    "\n",
    "#move axis from 0 to position 2\n",
    "X=np.moveaxis(X, [0], [2])\n",
    "\n",
    "#Erase first elements of y because of backcandles to match X length\n",
    "#del(yi[0:backcandles])\n",
    "#X, yi = np.array(X), np.array(yi)\n",
    "# Choose -1 for last column, classification else -2...\n",
    "X, yi =np.array(X), np.array(data_set_scaled[backcandles:,-1])\n",
    "y=np.reshape(yi,(len(yi),1))\n",
    "#y=sc.fit_transform(yi)\n",
    "#X_train = np.reshape(X_train, (X_train.shape[0], X_train.shape[1], 1))\n",
    "# make sure the shape is correct\n",
    "print(X)\n",
    "print(X.shape)\n",
    "# print(y)\n",
    "print(y.shape)\n"
   ]
  },
  {
   "cell_type": "code",
   "execution_count": 6,
   "id": "c01b699a",
   "metadata": {},
   "outputs": [],
   "source": [
    "#also comprehensions for X\n",
    "#X = np.array([data_set_scaled[i-backcandles:i,:4].copy() for i in range(backcandles,len(data_set_scaled))])\n",
    "#print(X)\n",
    "#print(X.shape)"
   ]
  },
  {
   "cell_type": "code",
   "execution_count": 7,
   "id": "a2a87918",
   "metadata": {
    "ExecuteTime": {
     "end_time": "2023-12-09T23:21:02.754027Z",
     "start_time": "2023-12-09T23:21:02.744915Z"
    }
   },
   "outputs": [
    {
     "name": "stdout",
     "output_type": "stream",
     "text": [
      "2049\n",
      "(2049, 30, 6)\n",
      "(513, 30, 6)\n",
      "(2049, 1)\n",
      "(513, 1)\n"
     ]
    }
   ],
   "source": [
    "# split data into train test sets\n",
    "splitlimit = int(len(X)*0.8)\n",
    "print(splitlimit)\n",
    "X_train, X_test = X[:splitlimit], X[splitlimit:]\n",
    "y_train, y_test = y[:splitlimit], y[splitlimit:]\n",
    "print(X_train.shape)\n",
    "print(X_test.shape)\n",
    "print(y_train.shape)\n",
    "print(y_test.shape)"
   ]
  },
  {
   "cell_type": "code",
   "execution_count": 8,
   "id": "732d10d8-33d1-4f20-8460-d78128ed3230",
   "metadata": {},
   "outputs": [],
   "source": [
    "# !pip install --upgrade tensorflow-probability"
   ]
  },
  {
   "cell_type": "markdown",
   "id": "088047d5-1974-45a5-8408-174e2f04278f",
   "metadata": {},
   "source": [
    "[Tensorflow probability documentation](https://www.tensorflow.org/probability/examples/Probabilistic_Layers_Regression)"
   ]
  },
  {
   "cell_type": "code",
   "execution_count": 9,
   "id": "9867161a",
   "metadata": {
    "ExecuteTime": {
     "end_time": "2023-12-09T23:21:37.863808Z",
     "start_time": "2023-12-09T23:21:08.297428Z"
    }
   },
   "outputs": [
    {
     "name": "stdout",
     "output_type": "stream",
     "text": [
      "WARNING:tensorflow:From c:\\users\\jonat\\appdata\\local\\programs\\python\\python39\\lib\\site-packages\\keras\\src\\losses.py:2976: The name tf.losses.sparse_softmax_cross_entropy is deprecated. Please use tf.compat.v1.losses.sparse_softmax_cross_entropy instead.\n",
      "\n",
      "WARNING:tensorflow:From c:\\users\\jonat\\appdata\\local\\programs\\python\\python39\\lib\\site-packages\\tensorflow_probability\\python\\internal\\backend\\numpy\\_utils.py:48: The name tf.logging.TaskLevelStatusMessage is deprecated. Please use tf.compat.v1.logging.TaskLevelStatusMessage instead.\n",
      "\n",
      "WARNING:tensorflow:From c:\\users\\jonat\\appdata\\local\\programs\\python\\python39\\lib\\site-packages\\tensorflow_probability\\python\\internal\\backend\\numpy\\_utils.py:48: The name tf.control_flow_v2_enabled is deprecated. Please use tf.compat.v1.control_flow_v2_enabled instead.\n",
      "\n",
      "<class 'numpy.ndarray'>\n",
      "WARNING:tensorflow:From c:\\users\\jonat\\appdata\\local\\programs\\python\\python39\\lib\\site-packages\\keras\\src\\backend.py:873: The name tf.get_default_graph is deprecated. Please use tf.compat.v1.get_default_graph instead.\n",
      "\n",
      "WARNING:tensorflow:From c:\\users\\jonat\\appdata\\local\\programs\\python\\python39\\lib\\site-packages\\keras\\src\\optimizers\\__init__.py:309: The name tf.train.Optimizer is deprecated. Please use tf.compat.v1.train.Optimizer instead.\n",
      "\n",
      "Model: \"sequential\"\n",
      "_________________________________________________________________\n",
      " Layer (type)                Output Shape              Param #   \n",
      "=================================================================\n",
      " first_layer (LSTM)          (None, 30, 150)           94200     \n",
      "                                                                 \n",
      " second_layer (LSTM)         (None, 150)               180600    \n",
      "                                                                 \n",
      " dense (Dense)               (None, 2)                 302       \n",
      "                                                                 \n",
      " distribution_lambda (Distr  ((None, 1),               0         \n",
      " ibutionLambda)               (None, 1))                         \n",
      "                                                                 \n",
      "=================================================================\n",
      "Total params: 275102 (1.05 MB)\n",
      "Trainable params: 275102 (1.05 MB)\n",
      "Non-trainable params: 0 (0.00 Byte)\n",
      "_________________________________________________________________\n"
     ]
    }
   ],
   "source": [
    "from keras.models import Sequential\n",
    "from keras.layers import LSTM\n",
    "from keras.layers import Dropout\n",
    "from keras.layers import Dense\n",
    "from keras.layers import TimeDistributed\n",
    "import tensorflow as tf\n",
    "import keras\n",
    "from keras import optimizers\n",
    "from keras.callbacks import History\n",
    "from keras.models import Model\n",
    "from keras.layers import Dense, Dropout, LSTM, Input, Activation, concatenate\n",
    "import tensorflow as tf\n",
    "import tensorflow_probability as tfp\n",
    "tfd = tfp.distributions\n",
    "\n",
    "print(type(X_train))\n",
    "train_dataset = tf.data.Dataset.from_tensor_slices((X_train, y_train))\n",
    "test_dataset = tf.data.Dataset.from_tensor_slices((X_test, y_test))\n",
    "\n",
    "# lstm_input = Input(shape=(backcandles, 8), name='lstm_input')\n",
    "# inputs = LSTM(150, name='first_layer')(lstm_input)\n",
    "# inputs = Dense(1, name='dense_layer')(inputs)\n",
    "# output = Activation('linear', name='output')(inputs)\n",
    "# model = Model(inputs=lstm_input, outputs=output)\n",
    "# adam = optimizers.Adam()\n",
    "# model.compile(optimizer=adam, loss='mse')\n",
    "\n",
    "negloglik = lambda y, rv_y: -rv_y.log_prob(y)\n",
    "\n",
    "\n",
    "model = Sequential()\n",
    "model.add(LSTM(150, name='first_layer', return_sequences=True, input_shape = (backcandles, 6)))\n",
    "model.add(LSTM(150, name='second_layer'))\n",
    "model.add(Dense(2, activation='relu')) # 2 as you want to predict mean and variance\n",
    "model.add(  tfp.layers.DistributionLambda(\n",
    "      lambda t: tfd.Normal(loc=t[..., :1],\n",
    "                           scale=1e-3 + tf.math.softplus(0.05 * t[...,1:])))) # note this\n",
    "\n",
    "model.compile(optimizer='adam', loss=negloglik) # metrics=[keras.metrics.Accuracy()]\n",
    "model.summary()"
   ]
  },
  {
   "cell_type": "code",
   "execution_count": 10,
   "id": "fbe790d9-7175-4b26-ab44-170463f9dc47",
   "metadata": {},
   "outputs": [
    {
     "name": "stdout",
     "output_type": "stream",
     "text": [
      "Epoch 1/10\n",
      "WARNING:tensorflow:From c:\\users\\jonat\\appdata\\local\\programs\\python\\python39\\lib\\site-packages\\keras\\src\\utils\\tf_utils.py:492: The name tf.ragged.RaggedTensorValue is deprecated. Please use tf.compat.v1.ragged.RaggedTensorValue instead.\n",
      "\n",
      "65/65 [==============================] - 14s 104ms/step - loss: 0.5548 - val_loss: 0.5570\n",
      "Epoch 2/10\n",
      "65/65 [==============================] - 5s 83ms/step - loss: 0.5541 - val_loss: 0.5571\n",
      "Epoch 3/10\n",
      "65/65 [==============================] - 5s 79ms/step - loss: 0.5541 - val_loss: 0.5566\n",
      "Epoch 4/10\n",
      "65/65 [==============================] - 5s 70ms/step - loss: 0.5541 - val_loss: 0.5580\n",
      "Epoch 5/10\n",
      "65/65 [==============================] - 5s 81ms/step - loss: 0.5541 - val_loss: 0.5565\n",
      "Epoch 6/10\n",
      "65/65 [==============================] - 6s 93ms/step - loss: 0.5541 - val_loss: 0.5604\n",
      "Epoch 7/10\n",
      "65/65 [==============================] - 5s 84ms/step - loss: 0.5541 - val_loss: 0.5759\n",
      "Epoch 8/10\n",
      "65/65 [==============================] - 6s 86ms/step - loss: 0.5541 - val_loss: 0.5564\n",
      "Epoch 9/10\n",
      "65/65 [==============================] - 5s 79ms/step - loss: 0.5541 - val_loss: 0.5564\n",
      "Epoch 10/10\n",
      "65/65 [==============================] - 5s 77ms/step - loss: 0.5540 - val_loss: 0.5587\n"
     ]
    },
    {
     "data": {
      "text/plain": [
       "<keras.src.callbacks.History at 0x179f7b11f10>"
      ]
     },
     "execution_count": 10,
     "metadata": {},
     "output_type": "execute_result"
    }
   ],
   "source": [
    "# model.fit(x=X_train, y=y_train, batch_size=15, epochs=15, shuffle=True, validation_split = 0.1)\n",
    "model.fit(x=X_train, y=y_train, batch_size=32, epochs=10, validation_data=(X_test,y_test),verbose=1)"
   ]
  },
  {
   "cell_type": "code",
   "execution_count": 11,
   "id": "d4a14d4a-fbb9-4d60-8478-58ce45d6f183",
   "metadata": {},
   "outputs": [],
   "source": [
    "# model.evaluate(X_test, y_test)\n",
    "# # access validation accuracy for each epoch\n",
    "# model.metrics_names\n",
    "# # acc = model.history.history['val_accuracy']\n",
    "# # print(acc)\n",
    "\n",
    "# # # access validation loss for each epoch\n",
    "# # loss_val = model.history.history['val_loss']\n",
    "# # print(loss_val)"
   ]
  },
  {
   "cell_type": "code",
   "execution_count": 12,
   "id": "d5034f06-1c89-41c9-b981-e4a21bd29c6f",
   "metadata": {},
   "outputs": [
    {
     "name": "stdout",
     "output_type": "stream",
     "text": [
      "<class 'tensorflow.python.framework.ops.EagerTensor'>\n"
     ]
    },
    {
     "data": {
      "text/plain": [
       "Text(0.5, 1.0, 'Tensorflow probability implementation')"
      ]
     },
     "execution_count": 12,
     "metadata": {},
     "output_type": "execute_result"
    },
    {
     "data": {
      "image/png": "[encoded data removed]",
      "text/plain": [
       "<Figure size 432x288 with 1 Axes>"
      ]
     },
     "metadata": {
      "needs_background": "light"
     },
     "output_type": "display_data"
    }
   ],
   "source": [
    "# representing aleatoric uncertainty from tfp documentation\n",
    "# [print(np.squeeze(w.numpy())) for w in model.weights];\n",
    "yhat = model(X_test)\n",
    "assert isinstance(yhat, tfd.Distribution)\n",
    "\n",
    "plt.plot(np.arange(len(X_test)), y_test, 'b', label='observed');\n",
    "\n",
    "m = yhat.mean()\n",
    "print(type(m))\n",
    "s = yhat.stddev()\n",
    "\n",
    "plt.plot(np.arange(len(X_test)), m, 'r', label='mean');\n",
    "# confidence interval is extremely wide\n",
    "# plt.plot(np.arange(len(X_test)), m + 2 * s, 'g', linewidth=2, label=r'mean + 2 stddev');\n",
    "# plt.plot(np.arange(len(X_test)), m - 2 * s, 'g', linewidth=2, label=r'mean - 2 stddev');\n",
    "\n",
    "ax=plt.gca();\n",
    "ax.xaxis.set_ticks_position('bottom')\n",
    "ax.yaxis.set_ticks_position('left')\n",
    "ax.spines['left'].set_position(('data', 0))\n",
    "ax.spines['top'].set_visible(False)\n",
    "ax.spines['right'].set_visible(False)\n",
    "#ax.spines['left'].set_smart_bounds(True)\n",
    "#ax.spines['bottom'].set_smart_bounds(True)\n",
    "plt.legend(loc='center left', fancybox=True, framealpha=0., bbox_to_anchor=(1.05, 0.5))\n",
    "plt.title('Tensorflow probability implementation')"
   ]
  },
  {
   "cell_type": "code",
   "execution_count": 13,
   "id": "67f5e31a",
   "metadata": {
    "ExecuteTime": {
     "end_time": "2023-12-09T23:22:27.363918Z",
     "start_time": "2023-12-09T23:22:27.192722Z"
    }
   },
   "outputs": [
    {
     "name": "stdout",
     "output_type": "stream",
     "text": [
      "Epoch 1/10\n",
      "65/65 [==============================] - 14s 99ms/step - loss: 9.2601e-04 - val_loss: 0.0048\n",
      "Epoch 2/10\n",
      "65/65 [==============================] - 5s 73ms/step - loss: 2.3914e-04 - val_loss: 0.0039\n",
      "Epoch 3/10\n",
      "65/65 [==============================] - 6s 86ms/step - loss: 2.2540e-04 - val_loss: 0.0026\n",
      "Epoch 4/10\n",
      "65/65 [==============================] - 5s 73ms/step - loss: 2.0041e-04 - val_loss: 0.0037\n",
      "Epoch 5/10\n",
      "65/65 [==============================] - 5s 80ms/step - loss: 1.8603e-04 - val_loss: 0.0085\n",
      "Epoch 6/10\n",
      "65/65 [==============================] - 5s 71ms/step - loss: 1.8607e-04 - val_loss: 0.0487\n",
      "Epoch 7/10\n",
      "65/65 [==============================] - 7s 102ms/step - loss: 0.0010 - val_loss: 0.0022\n",
      "Epoch 8/10\n",
      "65/65 [==============================] - 5s 80ms/step - loss: 1.9675e-04 - val_loss: 0.0031\n",
      "Epoch 9/10\n",
      "65/65 [==============================] - 5s 82ms/step - loss: 1.6149e-04 - val_loss: 0.0028\n",
      "Epoch 10/10\n",
      "65/65 [==============================] - 5s 72ms/step - loss: 1.6788e-04 - val_loss: 0.0029\n"
     ]
    },
    {
     "data": {
      "text/plain": [
       "<keras.src.callbacks.History at 0x179ff8b4f70>"
      ]
     },
     "execution_count": 13,
     "metadata": {},
     "output_type": "execute_result"
    }
   ],
   "source": [
    "# implement a default model that predicts change in price only\n",
    "model2 = Sequential()\n",
    "model2.add(LSTM(150, name='first_layer', return_sequences=True, input_shape = (backcandles, 6)))\n",
    "model2.add(LSTM(150, name='second_layer'))\n",
    "model2.add(Dense(1, activation='relu'))\n",
    "model2.compile(optimizer='adam', loss='mse') # metrics=[keras.metrics.Accuracy()]\n",
    "model2.fit(x=X_train, y=y_train, batch_size=32, epochs=10, validation_data=(X_test,y_test), verbose=1)"
   ]
  },
  {
   "cell_type": "code",
   "execution_count": 14,
   "id": "3d02f6ed-cc1a-4db9-b8c6-a20fa6417e2c",
   "metadata": {
    "tags": []
   },
   "outputs": [
    {
     "name": "stdout",
     "output_type": "stream",
     "text": [
      "17/17 [==============================] - 2s 23ms/step\n",
      "<class 'numpy.ndarray'>\n"
     ]
    },
    {
     "data": {
      "text/plain": [
       "Text(0.5, 1.0, 'Default MSE loss function implementation')"
      ]
     },
     "execution_count": 14,
     "metadata": {},
     "output_type": "execute_result"
    },
    {
     "data": {
      "image/png": "[encoded data removed]",
      "text/plain": [
       "<Figure size 432x288 with 1 Axes>"
      ]
     },
     "metadata": {
      "needs_background": "light"
     },
     "output_type": "display_data"
    }
   ],
   "source": [
    "yhat2 = model2.predict(X_test)\n",
    "print(type(yhat2))\n",
    "plt.plot(np.arange(len(X_test)), y_test, 'b', label='observed');\n",
    "plt.plot(np.arange(len(X_test)), yhat2, 'r', label='pred2');\n",
    "\n",
    "ax=plt.gca();\n",
    "ax.xaxis.set_ticks_position('bottom')\n",
    "ax.yaxis.set_ticks_position('left')\n",
    "ax.spines['left'].set_position(('data', 0))\n",
    "ax.spines['top'].set_visible(False)\n",
    "ax.spines['right'].set_visible(False)\n",
    "#ax.spines['left'].set_smart_bounds(True)\n",
    "#ax.spines['bottom'].set_smart_bounds(True)\n",
    "plt.legend(loc='center left', fancybox=True, framealpha=0., bbox_to_anchor=(1.05, 0.5))\n",
    "plt.title(\"Default MSE loss function implementation\")"
   ]
  },
  {
   "cell_type": "code",
   "execution_count": null,
   "id": "258e5732-236d-44f9-80e7-1a4268761964",
   "metadata": {},
   "outputs": [],
   "source": []
  }
 ],
 "metadata": {
  "kernelspec": {
   "display_name": "Python 3 (ipykernel)",
   "language": "python",
   "name": "python3"
  },
  "language_info": {
   "codemirror_mode": {
    "name": "ipython",
    "version": 3
   },
   "file_extension": ".py",
   "mimetype": "text/x-python",
   "name": "python",
   "nbconvert_exporter": "python",
   "pygments_lexer": "ipython3",
   "version": "3.9.6"
  }
 },
 "nbformat": 4,
 "nbformat_minor": 5
}
