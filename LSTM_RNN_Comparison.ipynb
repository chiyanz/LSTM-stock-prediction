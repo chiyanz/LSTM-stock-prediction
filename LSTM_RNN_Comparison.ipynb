{
 "cells": [
  {
   "cell_type": "markdown",
   "id": "ac1132f1-5006-44af-9f54-6c135fcd120b",
   "metadata": {},
   "source": [
    "# LSTM timestep comparison with RNN with complete past cell state memory"
   ]
  },
  {
   "cell_type": "code",
   "execution_count": 3,
   "id": "26d1dfe6-5853-4097-a45b-804a6db24876",
   "metadata": {},
   "outputs": [
    {
     "name": "stdout",
     "output_type": "stream",
     "text": [
      "[*********************100%%**********************]  1 of 1 completed\n",
      "(2600, 6)\n"
     ]
    },
    {
     "data": {
      "text/html": [
       "<div>\n",
       "<style scoped>\n",
       "    .dataframe tbody tr th:only-of-type {\n",
       "        vertical-align: middle;\n",
       "    }\n",
       "\n",
       "    .dataframe tbody tr th {\n",
       "        vertical-align: top;\n",
       "    }\n",
       "\n",
       "    .dataframe thead th {\n",
       "        text-align: right;\n",
       "    }\n",
       "</style>\n",
       "<table border=\"1\" class=\"dataframe\">\n",
       "  <thead>\n",
       "    <tr style=\"text-align: right;\">\n",
       "      <th></th>\n",
       "      <th>Open</th>\n",
       "      <th>High</th>\n",
       "      <th>Low</th>\n",
       "      <th>Close</th>\n",
       "      <th>Adj Close</th>\n",
       "      <th>Volume</th>\n",
       "    </tr>\n",
       "    <tr>\n",
       "      <th>Date</th>\n",
       "      <th></th>\n",
       "      <th></th>\n",
       "      <th></th>\n",
       "      <th></th>\n",
       "      <th></th>\n",
       "      <th></th>\n",
       "    </tr>\n",
       "  </thead>\n",
       "  <tbody>\n",
       "    <tr>\n",
       "      <th>2013-03-11</th>\n",
       "      <td>15.348214</td>\n",
       "      <td>15.678929</td>\n",
       "      <td>15.183571</td>\n",
       "      <td>15.638214</td>\n",
       "      <td>13.451863</td>\n",
       "      <td>474236000</td>\n",
       "    </tr>\n",
       "    <tr>\n",
       "      <th>2013-03-12</th>\n",
       "      <td>15.557143</td>\n",
       "      <td>15.674286</td>\n",
       "      <td>15.270357</td>\n",
       "      <td>15.301071</td>\n",
       "      <td>13.161856</td>\n",
       "      <td>465911600</td>\n",
       "    </tr>\n",
       "    <tr>\n",
       "      <th>2013-03-13</th>\n",
       "      <td>15.301786</td>\n",
       "      <td>15.517857</td>\n",
       "      <td>15.191429</td>\n",
       "      <td>15.298214</td>\n",
       "      <td>13.159396</td>\n",
       "      <td>405549200</td>\n",
       "    </tr>\n",
       "    <tr>\n",
       "      <th>2013-03-14</th>\n",
       "      <td>15.458214</td>\n",
       "      <td>15.522857</td>\n",
       "      <td>15.373214</td>\n",
       "      <td>15.446429</td>\n",
       "      <td>13.286891</td>\n",
       "      <td>303875600</td>\n",
       "    </tr>\n",
       "    <tr>\n",
       "      <th>2013-03-15</th>\n",
       "      <td>15.640357</td>\n",
       "      <td>15.865357</td>\n",
       "      <td>15.616071</td>\n",
       "      <td>15.845000</td>\n",
       "      <td>13.629739</td>\n",
       "      <td>643960800</td>\n",
       "    </tr>\n",
       "  </tbody>\n",
       "</table>\n",
       "</div>"
      ],
      "text/plain": [
       "                 Open       High        Low      Close  Adj Close     Volume\n",
       "Date                                                                        \n",
       "2013-03-11  15.348214  15.678929  15.183571  15.638214  13.451863  474236000\n",
       "2013-03-12  15.557143  15.674286  15.270357  15.301071  13.161856  465911600\n",
       "2013-03-13  15.301786  15.517857  15.191429  15.298214  13.159396  405549200\n",
       "2013-03-14  15.458214  15.522857  15.373214  15.446429  13.286891  303875600\n",
       "2013-03-15  15.640357  15.865357  15.616071  15.845000  13.629739  643960800"
      ]
     },
     "execution_count": 3,
     "metadata": {},
     "output_type": "execute_result"
    }
   ],
   "source": [
    "import numpy as np\n",
    "import matplotlib.pyplot as plt\n",
    "import pandas as pd\n",
    "import yfinance as yf\n",
    "from keras.models import Sequential\n",
    "from keras.layers import LSTM\n",
    "from keras.layers import Dropout\n",
    "from keras.layers import Dense\n",
    "from keras.layers import TimeDistributed\n",
    "import tensorflow as tf\n",
    "import keras\n",
    "from keras import optimizers\n",
    "from keras.callbacks import History\n",
    "from keras.models import Model\n",
    "from keras.layers import Dense, Dropout, LSTM, Input, Activation, concatenate\n",
    "\n",
    "\n",
    "# data initialization\n",
    "data = yf.download(tickers = ['AAPL'], start = '2013-03-11',end = '2023-07-10')\n",
    "data.head(10)\n",
    "print(data.shape)\n",
    "data.head()"
   ]
  },
  {
   "cell_type": "code",
   "execution_count": null,
   "id": "2e64b322-52b8-44da-a84f-1435582182ec",
   "metadata": {},
   "outputs": [],
   "source": [
    "# defining prediction target\n",
    "data['Target'] = data['Adj Close'].shift(-1)\n",
    "\n"
   ]
  }
 ],
 "metadata": {
  "kernelspec": {
   "display_name": "Python 3 (ipykernel)",
   "language": "python",
   "name": "python3"
  },
  "language_info": {
   "codemirror_mode": {
    "name": "ipython",
    "version": 3
   },
   "file_extension": ".py",
   "mimetype": "text/x-python",
   "name": "python",
   "nbconvert_exporter": "python",
   "pygments_lexer": "ipython3",
   "version": "3.9.6"
  }
 },
 "nbformat": 4,
 "nbformat_minor": 5
}
